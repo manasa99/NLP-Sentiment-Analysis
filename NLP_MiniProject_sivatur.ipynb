{
 "cells": [
  {
   "cell_type": "markdown",
   "id": "0a03b63d",
   "metadata": {},
   "source": [
    "# NLP - Mini-Project \n",
    "#### Submission by Sai Manasa Ivaturi (sivatur@iu.edu)"
   ]
  },
  {
   "cell_type": "markdown",
   "id": "c59d40b1",
   "metadata": {},
   "source": [
    "### About the data :\n",
    "\n",
    "This dataset has been downloaded from the repo provided in the Assignment and was made available locally for this miniproject.\n",
    "\n",
    "This dataset \"Musical Instruments\" is about the Amazon reviews for musical instruments.\n",
    "\n",
    "The overall size of dataset is about 10,000 rows of json data, where each JSON comprises of critical information about the review for muscial instrument in context.\n",
    "\n",
    "More about the data from each json object is given below -\n",
    "\n",
    "\n",
    "| Attribute                                           | Description                      | Example          |   |\n",
    "|----------------------------------------------------|----------------------------------|------------------|---|\n",
    "| reviewerID                                          |ID of the reviewer                | e.g. A2SUAM1J3GNN3B|   | \n",
    "| 'asin                                              | ID of the product                | e.g. 0000013714' |   |\n",
    "| 'reviewerName                                      | name of the reviewer'            |                  |   |\n",
    "| 'helpful                                           | helpfulness rating of the review | e.g. 2/3'        |   |\n",
    "| 'reviewText                                        | text of the review'              |                  |   |\n",
    "| 'overall                                           | rating of the product'           |                  |   |\n",
    "| 'summary                                           | summary of the review'           |                  |   |\n",
    "| 'unixReviewTime                                    | time of the review (unix time)'  |                  |   |\n",
    "| 'reviewTime                                        | time of the review (raw)'        |                  |   |\n",
    "\n",
    "Dataset source \n",
    "\n",
    "    - webpage -> http://jmcauley.ucsd.edu/data/amazon/\n",
    "    - data -> http://snap.stanford.edu/data/amazon/productGraph/categoryFiles/reviews_Musical_Instruments_5.json.gz"
   ]
  },
  {
   "cell_type": "markdown",
   "id": "fd2f8b26",
   "metadata": {},
   "source": [
    "### Loading and Cleaning\n",
    "\n",
    "This below section of code deals with loading the data into dataframe and cleaning the data"
   ]
  },
  {
   "cell_type": "code",
   "execution_count": 1,
   "id": "ea67f771",
   "metadata": {},
   "outputs": [],
   "source": [
    "# loading the dataset\n",
    "import pandas as pd"
   ]
  },
  {
   "cell_type": "code",
   "execution_count": 2,
   "id": "00614017",
   "metadata": {},
   "outputs": [],
   "source": [
    "path = \"/Users/manasaivaturi/Desktop/Musical_Instruments_5.json\"\n",
    "df = pd.read_json(path, lines = True)"
   ]
  },
  {
   "cell_type": "code",
   "execution_count": 3,
   "id": "e4a81d23",
   "metadata": {},
   "outputs": [
    {
     "name": "stdout",
     "output_type": "stream",
     "text": [
      "Dataframe Shape (row, column):\t(10261, 9)\n"
     ]
    }
   ],
   "source": [
    "print (\"Dataframe Shape (row, column):\\t\"+ str(df.shape))"
   ]
  },
  {
   "cell_type": "code",
   "execution_count": 4,
   "id": "9a44deb2",
   "metadata": {},
   "outputs": [
    {
     "name": "stdout",
     "output_type": "stream",
     "text": [
      "<class 'pandas.core.frame.DataFrame'>\n",
      "RangeIndex: 10261 entries, 0 to 10260\n",
      "Data columns (total 9 columns):\n",
      " #   Column          Non-Null Count  Dtype \n",
      "---  ------          --------------  ----- \n",
      " 0   reviewerID      10261 non-null  object\n",
      " 1   asin            10261 non-null  object\n",
      " 2   reviewerName    10234 non-null  object\n",
      " 3   helpful         10261 non-null  object\n",
      " 4   reviewText      10261 non-null  object\n",
      " 5   overall         10261 non-null  int64 \n",
      " 6   summary         10261 non-null  object\n",
      " 7   unixReviewTime  10261 non-null  int64 \n",
      " 8   reviewTime      10261 non-null  object\n",
      "dtypes: int64(2), object(7)\n",
      "memory usage: 721.6+ KB\n",
      "Reviews info :\t\tNone\n"
     ]
    }
   ],
   "source": [
    "print (\"Reviews info :\\t\\t\" + str(df.info()))"
   ]
  },
  {
   "cell_type": "markdown",
   "id": "f4fc4edf",
   "metadata": {},
   "source": [
    "As we can see from the below cell output the total number of reviews loaded into the dataframe is 10,261.\n",
    "\n",
    "Here, one important observation can be that mean of the column \"overall\" is 4.4/5 meaning that most of the data is positive rated."
   ]
  },
  {
   "cell_type": "code",
   "execution_count": 5,
   "id": "dabf5d75",
   "metadata": {},
   "outputs": [
    {
     "data": {
      "text/html": [
       "<div>\n",
       "<style scoped>\n",
       "    .dataframe tbody tr th:only-of-type {\n",
       "        vertical-align: middle;\n",
       "    }\n",
       "\n",
       "    .dataframe tbody tr th {\n",
       "        vertical-align: top;\n",
       "    }\n",
       "\n",
       "    .dataframe thead th {\n",
       "        text-align: right;\n",
       "    }\n",
       "</style>\n",
       "<table border=\"1\" class=\"dataframe\">\n",
       "  <thead>\n",
       "    <tr style=\"text-align: right;\">\n",
       "      <th></th>\n",
       "      <th>overall</th>\n",
       "      <th>unixReviewTime</th>\n",
       "    </tr>\n",
       "  </thead>\n",
       "  <tbody>\n",
       "    <tr>\n",
       "      <th>count</th>\n",
       "      <td>10261.000000</td>\n",
       "      <td>1.026100e+04</td>\n",
       "    </tr>\n",
       "    <tr>\n",
       "      <th>mean</th>\n",
       "      <td>4.488744</td>\n",
       "      <td>1.360606e+09</td>\n",
       "    </tr>\n",
       "    <tr>\n",
       "      <th>std</th>\n",
       "      <td>0.894642</td>\n",
       "      <td>3.779735e+07</td>\n",
       "    </tr>\n",
       "    <tr>\n",
       "      <th>min</th>\n",
       "      <td>1.000000</td>\n",
       "      <td>1.095466e+09</td>\n",
       "    </tr>\n",
       "    <tr>\n",
       "      <th>25%</th>\n",
       "      <td>4.000000</td>\n",
       "      <td>1.343434e+09</td>\n",
       "    </tr>\n",
       "    <tr>\n",
       "      <th>50%</th>\n",
       "      <td>5.000000</td>\n",
       "      <td>1.368490e+09</td>\n",
       "    </tr>\n",
       "    <tr>\n",
       "      <th>75%</th>\n",
       "      <td>5.000000</td>\n",
       "      <td>1.388966e+09</td>\n",
       "    </tr>\n",
       "    <tr>\n",
       "      <th>max</th>\n",
       "      <td>5.000000</td>\n",
       "      <td>1.405987e+09</td>\n",
       "    </tr>\n",
       "  </tbody>\n",
       "</table>\n",
       "</div>"
      ],
      "text/plain": [
       "            overall  unixReviewTime\n",
       "count  10261.000000    1.026100e+04\n",
       "mean       4.488744    1.360606e+09\n",
       "std        0.894642    3.779735e+07\n",
       "min        1.000000    1.095466e+09\n",
       "25%        4.000000    1.343434e+09\n",
       "50%        5.000000    1.368490e+09\n",
       "75%        5.000000    1.388966e+09\n",
       "max        5.000000    1.405987e+09"
      ]
     },
     "execution_count": 5,
     "metadata": {},
     "output_type": "execute_result"
    }
   ],
   "source": [
    "df.describe()"
   ]
  },
  {
   "cell_type": "markdown",
   "id": "d6717ea9",
   "metadata": {},
   "source": [
    "we can validate the same by looking at the data from below that\n",
    "the value_counts for reviews with ratings 5 and 4 is way above 3,2 and 1."
   ]
  },
  {
   "cell_type": "code",
   "execution_count": 6,
   "id": "1edb6a0b",
   "metadata": {},
   "outputs": [
    {
     "data": {
      "text/plain": [
       "5    6938\n",
       "4    2084\n",
       "3     772\n",
       "2     250\n",
       "1     217\n",
       "Name: overall, dtype: int64"
      ]
     },
     "execution_count": 6,
     "metadata": {},
     "output_type": "execute_result"
    }
   ],
   "source": [
    "df[\"overall\"].value_counts()"
   ]
  },
  {
   "cell_type": "markdown",
   "id": "f82d0168",
   "metadata": {},
   "source": [
    "Even if we are to proceed to cleaning the dataset, as we can see, only reviewName has some null values.\n",
    "\n",
    "Except for that, no other column really produces any null values that needs to be treated beforehand."
   ]
  },
  {
   "cell_type": "code",
   "execution_count": 7,
   "id": "bd53aaa3",
   "metadata": {},
   "outputs": [
    {
     "data": {
      "text/plain": [
       "reviewerID         0\n",
       "asin               0\n",
       "reviewerName      27\n",
       "helpful            0\n",
       "reviewText         0\n",
       "overall            0\n",
       "summary            0\n",
       "unixReviewTime     0\n",
       "reviewTime         0\n",
       "dtype: int64"
      ]
     },
     "execution_count": 7,
     "metadata": {},
     "output_type": "execute_result"
    }
   ],
   "source": [
    "# checking for null values\n",
    "df.isnull().sum()"
   ]
  },
  {
   "cell_type": "markdown",
   "id": "9f65b4db",
   "metadata": {},
   "source": [
    "### Cleaning/preprocessing the data"
   ]
  },
  {
   "cell_type": "markdown",
   "id": "cfd042b9",
   "metadata": {},
   "source": [
    "As we can see from above, for the sake of sentiment analysis \n",
    "we might not be in need of all the columns from our dataset.\n",
    "\n",
    "Since we want to perform sentiment analysis - most useful columns are the \n",
    "    - reviewText\n",
    "    - summary\n",
    "Also, for us to be able to get the accuracy of our sentiment analysis, we might want to keep the \"overall\" column handy.\n",
    "\n",
    "So, we are creating a much simpler data frame to support our project."
   ]
  },
  {
   "cell_type": "code",
   "execution_count": 8,
   "id": "c1444338",
   "metadata": {},
   "outputs": [],
   "source": [
    "fin = df[[\"overall\",\"reviewText\"]]"
   ]
  },
  {
   "cell_type": "code",
   "execution_count": 9,
   "id": "388635e0",
   "metadata": {},
   "outputs": [
    {
     "data": {
      "text/html": [
       "<div>\n",
       "<style scoped>\n",
       "    .dataframe tbody tr th:only-of-type {\n",
       "        vertical-align: middle;\n",
       "    }\n",
       "\n",
       "    .dataframe tbody tr th {\n",
       "        vertical-align: top;\n",
       "    }\n",
       "\n",
       "    .dataframe thead th {\n",
       "        text-align: right;\n",
       "    }\n",
       "</style>\n",
       "<table border=\"1\" class=\"dataframe\">\n",
       "  <thead>\n",
       "    <tr style=\"text-align: right;\">\n",
       "      <th></th>\n",
       "      <th>overall</th>\n",
       "      <th>reviewText</th>\n",
       "    </tr>\n",
       "  </thead>\n",
       "  <tbody>\n",
       "    <tr>\n",
       "      <th>0</th>\n",
       "      <td>5</td>\n",
       "      <td>Not much to write about here, but it does exac...</td>\n",
       "    </tr>\n",
       "    <tr>\n",
       "      <th>1</th>\n",
       "      <td>5</td>\n",
       "      <td>The product does exactly as it should and is q...</td>\n",
       "    </tr>\n",
       "    <tr>\n",
       "      <th>2</th>\n",
       "      <td>5</td>\n",
       "      <td>The primary job of this device is to block the...</td>\n",
       "    </tr>\n",
       "    <tr>\n",
       "      <th>3</th>\n",
       "      <td>5</td>\n",
       "      <td>Nice windscreen protects my MXL mic and preven...</td>\n",
       "    </tr>\n",
       "    <tr>\n",
       "      <th>4</th>\n",
       "      <td>5</td>\n",
       "      <td>This pop filter is great. It looks and perform...</td>\n",
       "    </tr>\n",
       "    <tr>\n",
       "      <th>...</th>\n",
       "      <td>...</td>\n",
       "      <td>...</td>\n",
       "    </tr>\n",
       "    <tr>\n",
       "      <th>10256</th>\n",
       "      <td>5</td>\n",
       "      <td>Great, just as expected.  Thank to all.</td>\n",
       "    </tr>\n",
       "    <tr>\n",
       "      <th>10257</th>\n",
       "      <td>5</td>\n",
       "      <td>I've been thinking about trying the Nanoweb st...</td>\n",
       "    </tr>\n",
       "    <tr>\n",
       "      <th>10258</th>\n",
       "      <td>4</td>\n",
       "      <td>I have tried coated strings in the past ( incl...</td>\n",
       "    </tr>\n",
       "    <tr>\n",
       "      <th>10259</th>\n",
       "      <td>4</td>\n",
       "      <td>Well, MADE by Elixir and DEVELOPED with Taylor...</td>\n",
       "    </tr>\n",
       "    <tr>\n",
       "      <th>10260</th>\n",
       "      <td>4</td>\n",
       "      <td>These strings are really quite good, but I wou...</td>\n",
       "    </tr>\n",
       "  </tbody>\n",
       "</table>\n",
       "<p>10261 rows × 2 columns</p>\n",
       "</div>"
      ],
      "text/plain": [
       "       overall                                         reviewText\n",
       "0            5  Not much to write about here, but it does exac...\n",
       "1            5  The product does exactly as it should and is q...\n",
       "2            5  The primary job of this device is to block the...\n",
       "3            5  Nice windscreen protects my MXL mic and preven...\n",
       "4            5  This pop filter is great. It looks and perform...\n",
       "...        ...                                                ...\n",
       "10256        5            Great, just as expected.  Thank to all.\n",
       "10257        5  I've been thinking about trying the Nanoweb st...\n",
       "10258        4  I have tried coated strings in the past ( incl...\n",
       "10259        4  Well, MADE by Elixir and DEVELOPED with Taylor...\n",
       "10260        4  These strings are really quite good, but I wou...\n",
       "\n",
       "[10261 rows x 2 columns]"
      ]
     },
     "execution_count": 9,
     "metadata": {},
     "output_type": "execute_result"
    }
   ],
   "source": [
    "fin"
   ]
  },
  {
   "cell_type": "markdown",
   "id": "c49d6d71",
   "metadata": {},
   "source": [
    "#### changing \"overall\" column to positive and negetive\n",
    "\n",
    "As we have seen from above, the current rating is a 5-star based system, which is highly granular in its rating system\n",
    "\n",
    "For the sake of experimentation, ease of understanding and simplicity, we are trying to bring it to a binary level, that is \n",
    "we will create a new column which says either the rating is positive or negetive.\n",
    "\n",
    "To do so, we will categorize all reviews with an \"overall\" score of 3 or above as positive and below 3 as negative"
   ]
  },
  {
   "cell_type": "code",
   "execution_count": 10,
   "id": "201ef488",
   "metadata": {},
   "outputs": [],
   "source": [
    "def sent(rating):\n",
    "    if rating >=3:\n",
    "        return True\n",
    "    else:\n",
    "        return False\n",
    "    return value"
   ]
  },
  {
   "cell_type": "code",
   "execution_count": 11,
   "id": "884a08b9",
   "metadata": {},
   "outputs": [],
   "source": [
    "fin[\"rating\"] = fin[\"overall\"].apply(sent)"
   ]
  },
  {
   "cell_type": "code",
   "execution_count": 12,
   "id": "932e65dc",
   "metadata": {},
   "outputs": [
    {
     "data": {
      "text/plain": [
       "True     9794\n",
       "False     467\n",
       "Name: rating, dtype: int64"
      ]
     },
     "execution_count": 12,
     "metadata": {},
     "output_type": "execute_result"
    }
   ],
   "source": [
    "fin[\"rating\"].value_counts()"
   ]
  },
  {
   "cell_type": "markdown",
   "id": "801afbeb",
   "metadata": {},
   "source": [
    "Here, the orignal postive ratings are about 9794 and the negetive ratings are 467\n",
    "\n",
    "This will be the source of truth on our end and we will calculate accuracy for out sentiment analysis against this."
   ]
  },
  {
   "cell_type": "code",
   "execution_count": 13,
   "id": "72f2fbb3",
   "metadata": {},
   "outputs": [
    {
     "data": {
      "text/html": [
       "<div>\n",
       "<style scoped>\n",
       "    .dataframe tbody tr th:only-of-type {\n",
       "        vertical-align: middle;\n",
       "    }\n",
       "\n",
       "    .dataframe tbody tr th {\n",
       "        vertical-align: top;\n",
       "    }\n",
       "\n",
       "    .dataframe thead th {\n",
       "        text-align: right;\n",
       "    }\n",
       "</style>\n",
       "<table border=\"1\" class=\"dataframe\">\n",
       "  <thead>\n",
       "    <tr style=\"text-align: right;\">\n",
       "      <th></th>\n",
       "      <th>overall</th>\n",
       "      <th>reviewText</th>\n",
       "      <th>rating</th>\n",
       "    </tr>\n",
       "  </thead>\n",
       "  <tbody>\n",
       "    <tr>\n",
       "      <th>0</th>\n",
       "      <td>5</td>\n",
       "      <td>Not much to write about here, but it does exac...</td>\n",
       "      <td>True</td>\n",
       "    </tr>\n",
       "    <tr>\n",
       "      <th>1</th>\n",
       "      <td>5</td>\n",
       "      <td>The product does exactly as it should and is q...</td>\n",
       "      <td>True</td>\n",
       "    </tr>\n",
       "    <tr>\n",
       "      <th>2</th>\n",
       "      <td>5</td>\n",
       "      <td>The primary job of this device is to block the...</td>\n",
       "      <td>True</td>\n",
       "    </tr>\n",
       "    <tr>\n",
       "      <th>3</th>\n",
       "      <td>5</td>\n",
       "      <td>Nice windscreen protects my MXL mic and preven...</td>\n",
       "      <td>True</td>\n",
       "    </tr>\n",
       "    <tr>\n",
       "      <th>4</th>\n",
       "      <td>5</td>\n",
       "      <td>This pop filter is great. It looks and perform...</td>\n",
       "      <td>True</td>\n",
       "    </tr>\n",
       "    <tr>\n",
       "      <th>...</th>\n",
       "      <td>...</td>\n",
       "      <td>...</td>\n",
       "      <td>...</td>\n",
       "    </tr>\n",
       "    <tr>\n",
       "      <th>10256</th>\n",
       "      <td>5</td>\n",
       "      <td>Great, just as expected.  Thank to all.</td>\n",
       "      <td>True</td>\n",
       "    </tr>\n",
       "    <tr>\n",
       "      <th>10257</th>\n",
       "      <td>5</td>\n",
       "      <td>I've been thinking about trying the Nanoweb st...</td>\n",
       "      <td>True</td>\n",
       "    </tr>\n",
       "    <tr>\n",
       "      <th>10258</th>\n",
       "      <td>4</td>\n",
       "      <td>I have tried coated strings in the past ( incl...</td>\n",
       "      <td>True</td>\n",
       "    </tr>\n",
       "    <tr>\n",
       "      <th>10259</th>\n",
       "      <td>4</td>\n",
       "      <td>Well, MADE by Elixir and DEVELOPED with Taylor...</td>\n",
       "      <td>True</td>\n",
       "    </tr>\n",
       "    <tr>\n",
       "      <th>10260</th>\n",
       "      <td>4</td>\n",
       "      <td>These strings are really quite good, but I wou...</td>\n",
       "      <td>True</td>\n",
       "    </tr>\n",
       "  </tbody>\n",
       "</table>\n",
       "<p>10261 rows × 3 columns</p>\n",
       "</div>"
      ],
      "text/plain": [
       "       overall                                         reviewText  rating\n",
       "0            5  Not much to write about here, but it does exac...    True\n",
       "1            5  The product does exactly as it should and is q...    True\n",
       "2            5  The primary job of this device is to block the...    True\n",
       "3            5  Nice windscreen protects my MXL mic and preven...    True\n",
       "4            5  This pop filter is great. It looks and perform...    True\n",
       "...        ...                                                ...     ...\n",
       "10256        5            Great, just as expected.  Thank to all.    True\n",
       "10257        5  I've been thinking about trying the Nanoweb st...    True\n",
       "10258        4  I have tried coated strings in the past ( incl...    True\n",
       "10259        4  Well, MADE by Elixir and DEVELOPED with Taylor...    True\n",
       "10260        4  These strings are really quite good, but I wou...    True\n",
       "\n",
       "[10261 rows x 3 columns]"
      ]
     },
     "execution_count": 13,
     "metadata": {},
     "output_type": "execute_result"
    }
   ],
   "source": [
    "fin"
   ]
  },
  {
   "cell_type": "markdown",
   "id": "2399602e",
   "metadata": {},
   "source": [
    "### Processing data\n",
    "\n",
    "Since we have the data in the required format, we shall now continue to implement the NLP techniques we have learnt in this course.\n",
    "\n",
    "Since the data has been cleaned, now it is ready for further process of\n",
    "    \n",
    "    - Tokenization\n",
    "    - Removing stop words\n",
    "    - Removing punctuation\n",
    "    - Not tail contraction    \n",
    "    - POS tagging\n",
    "    - Lemmatization\n",
    "    - Sentiment analysis\n",
    "\n",
    "Lemmatization breaks the word into its root-word-form, however, if the pos tag is to be considered then the lemmatization must happen only after POS tagging is already complete.\n",
    "\n",
    "Another important aspect is that we are using sentiwordnet which has a different mapping for the POS tags than that of the nltk word tags.\n",
    "\n",
    "However, the advantage of the `sentiwordnet` is that the most probable pos tag is always present in the score list.\n",
    "\n",
    "On that note for this project, more consideration has been given to appropriate cleaning and tokenization to find the right word from the `sentiwordnet` than the POS tagging and Lemmatization."
   ]
  },
  {
   "cell_type": "markdown",
   "id": "8c99642b",
   "metadata": {},
   "source": [
    "#### importing libraries"
   ]
  },
  {
   "cell_type": "code",
   "execution_count": 14,
   "id": "631a5291",
   "metadata": {},
   "outputs": [],
   "source": [
    "from nltk.corpus import stopwords \n",
    "import nltk\n",
    "from nltk.corpus import sentiwordnet as swn \n",
    "import string"
   ]
  },
  {
   "cell_type": "markdown",
   "id": "0edb100a",
   "metadata": {},
   "source": [
    "When passed a sentence/tokens the below function is responsible for removing the following -\n",
    "\n",
    "    - converting strings to lowercase\n",
    "    - remove stop words\n",
    "    - removes punctuation\n",
    "    - removes tail contraction \n",
    "\n",
    "This function will be applied later"
   ]
  },
  {
   "cell_type": "code",
   "execution_count": 15,
   "id": "c19a6219",
   "metadata": {},
   "outputs": [],
   "source": [
    "def remove_stopwords(tokens):\n",
    "    # lowercase\n",
    "    # not in stopwords\n",
    "    # not in punctuation\n",
    "    # not tail contraction    \n",
    "    return [i.lower() for i in tokens \n",
    "            if i not in  stopwords.words('english') \n",
    "            and \n",
    "            i not in string.punctuation and \"'\" not in i]"
   ]
  },
  {
   "cell_type": "markdown",
   "id": "dd0d1c87",
   "metadata": {},
   "source": [
    "Given a list of tokens the below function checks the `senti_synset` and returns the object for further processing\n",
    "\n",
    "This function will be applied later"
   ]
  },
  {
   "cell_type": "code",
   "execution_count": 16,
   "id": "b0c84247",
   "metadata": {},
   "outputs": [],
   "source": [
    "def get_scores(tokens):\n",
    "    sysnets = []\n",
    "    for word in tokens:\n",
    "        try:\n",
    "            sysnets.append(list(swn.senti_synsets(word))[0])\n",
    "        except:\n",
    "            sysnets.append(None)\n",
    "    return sysnets"
   ]
  },
  {
   "cell_type": "markdown",
   "id": "7929a222",
   "metadata": {},
   "source": [
    "The below function takes the `sentiwordnet` objects and gets their respective normalized positive or negetive scores.\n",
    "\n",
    "Note: normalization happens depending on the number of tokens found in the `sentiwordnet`"
   ]
  },
  {
   "cell_type": "code",
   "execution_count": 17,
   "id": "136f9388",
   "metadata": {},
   "outputs": [],
   "source": [
    "def sent_rating(score_objects):\n",
    "    pos = [i.pos_score() for i in score_objects if i is not None] \n",
    "    neg = [i.neg_score()  for i in score_objects if i is not None]\n",
    "#     obj = [i.obj_score()  for i in score_objects if i is not None]\n",
    "    m_p = sum(pos)/len(pos) if len(pos)>0 else 0\n",
    "    m_n = sum(neg)/len(neg) if len(neg)>0 else 0\n",
    "    if m_p>m_n:\n",
    "        return True\n",
    "    else:\n",
    "        return False\n",
    "    return res.index(max(res))"
   ]
  },
  {
   "cell_type": "markdown",
   "id": "67a4ee5f",
   "metadata": {},
   "source": [
    "The below code processes the entire data from the `fin` dataframe's `reviewText` column and applies the respective functions.\n",
    "\n",
    "The advantage of the below loops is that if we decide to apply more functions they are now parameterized and can be modified."
   ]
  },
  {
   "cell_type": "code",
   "execution_count": 18,
   "id": "1bdfe46f",
   "metadata": {},
   "outputs": [],
   "source": [
    "tokenize = nltk.word_tokenize\n",
    "swn.all_senti_synsets()\n",
    "functions = [tokenize, remove_stopwords]\n",
    "for j in functions:\n",
    "    for i in [\"reviewText\"]:\n",
    "        fin[i] = fin[i].apply(j)"
   ]
  },
  {
   "cell_type": "markdown",
   "id": "5e5ede95",
   "metadata": {},
   "source": [
    "At this point, the column \"reviewText\" has been modified to undergo \n",
    "\n",
    "    - Tokenization\n",
    "    - Changing each token to - \n",
    "        - lowercase\n",
    "        - remove stop words\n",
    "        - removes punctuation\n",
    "        - removes tail contraction\n",
    "        \n",
    "We can validate the same by looking at the dataframe"
   ]
  },
  {
   "cell_type": "code",
   "execution_count": 19,
   "id": "f1727429",
   "metadata": {},
   "outputs": [
    {
     "data": {
      "text/html": [
       "<div>\n",
       "<style scoped>\n",
       "    .dataframe tbody tr th:only-of-type {\n",
       "        vertical-align: middle;\n",
       "    }\n",
       "\n",
       "    .dataframe tbody tr th {\n",
       "        vertical-align: top;\n",
       "    }\n",
       "\n",
       "    .dataframe thead th {\n",
       "        text-align: right;\n",
       "    }\n",
       "</style>\n",
       "<table border=\"1\" class=\"dataframe\">\n",
       "  <thead>\n",
       "    <tr style=\"text-align: right;\">\n",
       "      <th></th>\n",
       "      <th>overall</th>\n",
       "      <th>reviewText</th>\n",
       "      <th>rating</th>\n",
       "    </tr>\n",
       "  </thead>\n",
       "  <tbody>\n",
       "    <tr>\n",
       "      <th>0</th>\n",
       "      <td>5</td>\n",
       "      <td>[not, much, write, exactly, supposed, filters,...</td>\n",
       "      <td>True</td>\n",
       "    </tr>\n",
       "    <tr>\n",
       "      <th>1</th>\n",
       "      <td>5</td>\n",
       "      <td>[the, product, exactly, quite, affordable.i, r...</td>\n",
       "      <td>True</td>\n",
       "    </tr>\n",
       "    <tr>\n",
       "      <th>2</th>\n",
       "      <td>5</td>\n",
       "      <td>[the, primary, job, device, block, breath, wou...</td>\n",
       "      <td>True</td>\n",
       "    </tr>\n",
       "    <tr>\n",
       "      <th>3</th>\n",
       "      <td>5</td>\n",
       "      <td>[nice, windscreen, protects, mxl, mic, prevent...</td>\n",
       "      <td>True</td>\n",
       "    </tr>\n",
       "    <tr>\n",
       "      <th>4</th>\n",
       "      <td>5</td>\n",
       "      <td>[this, pop, filter, great, it, looks, performs...</td>\n",
       "      <td>True</td>\n",
       "    </tr>\n",
       "    <tr>\n",
       "      <th>...</th>\n",
       "      <td>...</td>\n",
       "      <td>...</td>\n",
       "      <td>...</td>\n",
       "    </tr>\n",
       "    <tr>\n",
       "      <th>10256</th>\n",
       "      <td>5</td>\n",
       "      <td>[great, expected, thank]</td>\n",
       "      <td>True</td>\n",
       "    </tr>\n",
       "    <tr>\n",
       "      <th>10257</th>\n",
       "      <td>5</td>\n",
       "      <td>[i, thinking, trying, nanoweb, strings, i, bit...</td>\n",
       "      <td>True</td>\n",
       "    </tr>\n",
       "    <tr>\n",
       "      <th>10258</th>\n",
       "      <td>4</td>\n",
       "      <td>[i, tried, coated, strings, past, including, e...</td>\n",
       "      <td>True</td>\n",
       "    </tr>\n",
       "    <tr>\n",
       "      <th>10259</th>\n",
       "      <td>4</td>\n",
       "      <td>[well, made, elixir, developed, taylor, guitar...</td>\n",
       "      <td>True</td>\n",
       "    </tr>\n",
       "    <tr>\n",
       "      <th>10260</th>\n",
       "      <td>4</td>\n",
       "      <td>[these, strings, really, quite, good, i, would...</td>\n",
       "      <td>True</td>\n",
       "    </tr>\n",
       "  </tbody>\n",
       "</table>\n",
       "<p>10261 rows × 3 columns</p>\n",
       "</div>"
      ],
      "text/plain": [
       "       overall                                         reviewText  rating\n",
       "0            5  [not, much, write, exactly, supposed, filters,...    True\n",
       "1            5  [the, product, exactly, quite, affordable.i, r...    True\n",
       "2            5  [the, primary, job, device, block, breath, wou...    True\n",
       "3            5  [nice, windscreen, protects, mxl, mic, prevent...    True\n",
       "4            5  [this, pop, filter, great, it, looks, performs...    True\n",
       "...        ...                                                ...     ...\n",
       "10256        5                           [great, expected, thank]    True\n",
       "10257        5  [i, thinking, trying, nanoweb, strings, i, bit...    True\n",
       "10258        4  [i, tried, coated, strings, past, including, e...    True\n",
       "10259        4  [well, made, elixir, developed, taylor, guitar...    True\n",
       "10260        4  [these, strings, really, quite, good, i, would...    True\n",
       "\n",
       "[10261 rows x 3 columns]"
      ]
     },
     "execution_count": 19,
     "metadata": {},
     "output_type": "execute_result"
    }
   ],
   "source": [
    "fin"
   ]
  },
  {
   "cell_type": "markdown",
   "id": "957e923b",
   "metadata": {},
   "source": [
    "The below line of code applies the aforementioned \n",
    "`get_scores` function on the `reviewText` column \n",
    "and stores the respective objects in the `scores_reviewText` column of the dataframe"
   ]
  },
  {
   "cell_type": "code",
   "execution_count": 20,
   "id": "a63d7c7f",
   "metadata": {},
   "outputs": [],
   "source": [
    "fin[\"scores_reviewText\"]=fin[\"reviewText\"].apply(get_scores)"
   ]
  },
  {
   "cell_type": "markdown",
   "id": "6d882f38",
   "metadata": {},
   "source": [
    "The below line of code applies the aforementioned \n",
    "`sent_rating` function on the `scores_reviewText` column \n",
    "and stores the respective objects in the `new_rating` column of the dataframe"
   ]
  },
  {
   "cell_type": "code",
   "execution_count": 21,
   "id": "52f447d2",
   "metadata": {},
   "outputs": [],
   "source": [
    "fin[\"new_rating\"]=fin[\"scores_reviewText\"].apply(sent_rating)"
   ]
  },
  {
   "cell_type": "markdown",
   "id": "842dbfb7",
   "metadata": {},
   "source": [
    "Because the sentiment analysis was performed already on the given column, it is now appropriate to find the accuracy of the sentiment analysis performed.\n",
    "\n",
    "On those lines, we know from the previous parts of the notebook that the column `rating` is the source of truth for finding accuracy of this prediction.\n",
    "\n",
    "The results of this are being saved to another column `same` in the dataframe."
   ]
  },
  {
   "cell_type": "code",
   "execution_count": 22,
   "id": "ff3fd415",
   "metadata": {},
   "outputs": [],
   "source": [
    "fin[\"same\"]=(fin[\"rating\"]==fin[\"new_rating\"])"
   ]
  },
  {
   "cell_type": "markdown",
   "id": "c7855a61",
   "metadata": {},
   "source": [
    "### Comparing the original ratings vs generated "
   ]
  },
  {
   "cell_type": "code",
   "execution_count": 23,
   "id": "4864148b",
   "metadata": {},
   "outputs": [
    {
     "data": {
      "text/plain": [
       "True     9794\n",
       "False     467\n",
       "Name: rating, dtype: int64"
      ]
     },
     "execution_count": 23,
     "metadata": {},
     "output_type": "execute_result"
    }
   ],
   "source": [
    "fin[\"rating\"].value_counts()"
   ]
  },
  {
   "cell_type": "code",
   "execution_count": 24,
   "id": "d703dcd8",
   "metadata": {},
   "outputs": [
    {
     "data": {
      "text/plain": [
       "True     7831\n",
       "False    2430\n",
       "Name: new_rating, dtype: int64"
      ]
     },
     "execution_count": 24,
     "metadata": {},
     "output_type": "execute_result"
    }
   ],
   "source": [
    "fin[\"new_rating\"].value_counts()"
   ]
  },
  {
   "cell_type": "markdown",
   "id": "33c7def1",
   "metadata": {},
   "source": [
    "### Results"
   ]
  },
  {
   "cell_type": "code",
   "execution_count": 25,
   "id": "7b37ef18",
   "metadata": {},
   "outputs": [],
   "source": [
    "results = fin[\"same\"].value_counts()"
   ]
  },
  {
   "cell_type": "code",
   "execution_count": 26,
   "id": "927abea1",
   "metadata": {},
   "outputs": [
    {
     "data": {
      "text/plain": [
       "True     7748\n",
       "False    2513\n",
       "Name: same, dtype: int64"
      ]
     },
     "execution_count": 26,
     "metadata": {},
     "output_type": "execute_result"
    }
   ],
   "source": [
    "results"
   ]
  },
  {
   "cell_type": "markdown",
   "id": "bd714caf",
   "metadata": {},
   "source": [
    "As we can see from the above results, the number of accurate classifcations are - \"7748\" and the number of wrongly classified sentences are - \"2513\"\n",
    "\n",
    "Which is about 75% accurate. This is the accuracy that could be accomplished with the `sentiwordnet` package from NLTK"
   ]
  },
  {
   "cell_type": "code",
   "execution_count": 27,
   "id": "f2100ae9",
   "metadata": {},
   "outputs": [
    {
     "data": {
      "text/html": [
       "<div>\n",
       "<style scoped>\n",
       "    .dataframe tbody tr th:only-of-type {\n",
       "        vertical-align: middle;\n",
       "    }\n",
       "\n",
       "    .dataframe tbody tr th {\n",
       "        vertical-align: top;\n",
       "    }\n",
       "\n",
       "    .dataframe thead th {\n",
       "        text-align: right;\n",
       "    }\n",
       "</style>\n",
       "<table border=\"1\" class=\"dataframe\">\n",
       "  <thead>\n",
       "    <tr style=\"text-align: right;\">\n",
       "      <th></th>\n",
       "      <th>overall</th>\n",
       "      <th>reviewText</th>\n",
       "      <th>rating</th>\n",
       "      <th>scores_reviewText</th>\n",
       "      <th>new_rating</th>\n",
       "      <th>same</th>\n",
       "    </tr>\n",
       "  </thead>\n",
       "  <tbody>\n",
       "    <tr>\n",
       "      <th>0</th>\n",
       "      <td>5</td>\n",
       "      <td>[not, much, write, exactly, supposed, filters,...</td>\n",
       "      <td>True</td>\n",
       "      <td>[&lt;not.r.01: PosScore=0.0 NegScore=0.625&gt;, &lt;muc...</td>\n",
       "      <td>False</td>\n",
       "      <td>False</td>\n",
       "    </tr>\n",
       "    <tr>\n",
       "      <th>1</th>\n",
       "      <td>5</td>\n",
       "      <td>[the, product, exactly, quite, affordable.i, r...</td>\n",
       "      <td>True</td>\n",
       "      <td>[None, &lt;merchandise.n.01: PosScore=0.0 NegScor...</td>\n",
       "      <td>True</td>\n",
       "      <td>True</td>\n",
       "    </tr>\n",
       "    <tr>\n",
       "      <th>2</th>\n",
       "      <td>5</td>\n",
       "      <td>[the, primary, job, device, block, breath, wou...</td>\n",
       "      <td>True</td>\n",
       "      <td>[None, &lt;primary.n.01: PosScore=0.0 NegScore=0....</td>\n",
       "      <td>True</td>\n",
       "      <td>True</td>\n",
       "    </tr>\n",
       "    <tr>\n",
       "      <th>3</th>\n",
       "      <td>5</td>\n",
       "      <td>[nice, windscreen, protects, mxl, mic, prevent...</td>\n",
       "      <td>True</td>\n",
       "      <td>[&lt;nice.n.01: PosScore=0.0 NegScore=0.0&gt;, &lt;wind...</td>\n",
       "      <td>True</td>\n",
       "      <td>True</td>\n",
       "    </tr>\n",
       "    <tr>\n",
       "      <th>4</th>\n",
       "      <td>5</td>\n",
       "      <td>[this, pop, filter, great, it, looks, performs...</td>\n",
       "      <td>True</td>\n",
       "      <td>[None, &lt;dad.n.01: PosScore=0.0 NegScore=0.0&gt;, ...</td>\n",
       "      <td>True</td>\n",
       "      <td>True</td>\n",
       "    </tr>\n",
       "    <tr>\n",
       "      <th>...</th>\n",
       "      <td>...</td>\n",
       "      <td>...</td>\n",
       "      <td>...</td>\n",
       "      <td>...</td>\n",
       "      <td>...</td>\n",
       "      <td>...</td>\n",
       "    </tr>\n",
       "    <tr>\n",
       "      <th>10256</th>\n",
       "      <td>5</td>\n",
       "      <td>[great, expected, thank]</td>\n",
       "      <td>True</td>\n",
       "      <td>[&lt;great.n.01: PosScore=0.0 NegScore=0.0&gt;, &lt;exp...</td>\n",
       "      <td>False</td>\n",
       "      <td>False</td>\n",
       "    </tr>\n",
       "    <tr>\n",
       "      <th>10257</th>\n",
       "      <td>5</td>\n",
       "      <td>[i, thinking, trying, nanoweb, strings, i, bit...</td>\n",
       "      <td>True</td>\n",
       "      <td>[&lt;iodine.n.01: PosScore=0.0 NegScore=0.0&gt;, &lt;th...</td>\n",
       "      <td>True</td>\n",
       "      <td>True</td>\n",
       "    </tr>\n",
       "    <tr>\n",
       "      <th>10258</th>\n",
       "      <td>4</td>\n",
       "      <td>[i, tried, coated, strings, past, including, e...</td>\n",
       "      <td>True</td>\n",
       "      <td>[&lt;iodine.n.01: PosScore=0.0 NegScore=0.0&gt;, &lt;tr...</td>\n",
       "      <td>True</td>\n",
       "      <td>True</td>\n",
       "    </tr>\n",
       "    <tr>\n",
       "      <th>10259</th>\n",
       "      <td>4</td>\n",
       "      <td>[well, made, elixir, developed, taylor, guitar...</td>\n",
       "      <td>True</td>\n",
       "      <td>[&lt;well.n.01: PosScore=0.0 NegScore=0.0&gt;, &lt;make...</td>\n",
       "      <td>True</td>\n",
       "      <td>True</td>\n",
       "    </tr>\n",
       "    <tr>\n",
       "      <th>10260</th>\n",
       "      <td>4</td>\n",
       "      <td>[these, strings, really, quite, good, i, would...</td>\n",
       "      <td>True</td>\n",
       "      <td>[None, &lt;string_section.n.01: PosScore=0.0 NegS...</td>\n",
       "      <td>True</td>\n",
       "      <td>True</td>\n",
       "    </tr>\n",
       "  </tbody>\n",
       "</table>\n",
       "<p>10261 rows × 6 columns</p>\n",
       "</div>"
      ],
      "text/plain": [
       "       overall                                         reviewText  rating  \\\n",
       "0            5  [not, much, write, exactly, supposed, filters,...    True   \n",
       "1            5  [the, product, exactly, quite, affordable.i, r...    True   \n",
       "2            5  [the, primary, job, device, block, breath, wou...    True   \n",
       "3            5  [nice, windscreen, protects, mxl, mic, prevent...    True   \n",
       "4            5  [this, pop, filter, great, it, looks, performs...    True   \n",
       "...        ...                                                ...     ...   \n",
       "10256        5                           [great, expected, thank]    True   \n",
       "10257        5  [i, thinking, trying, nanoweb, strings, i, bit...    True   \n",
       "10258        4  [i, tried, coated, strings, past, including, e...    True   \n",
       "10259        4  [well, made, elixir, developed, taylor, guitar...    True   \n",
       "10260        4  [these, strings, really, quite, good, i, would...    True   \n",
       "\n",
       "                                       scores_reviewText  new_rating   same  \n",
       "0      [<not.r.01: PosScore=0.0 NegScore=0.625>, <muc...       False  False  \n",
       "1      [None, <merchandise.n.01: PosScore=0.0 NegScor...        True   True  \n",
       "2      [None, <primary.n.01: PosScore=0.0 NegScore=0....        True   True  \n",
       "3      [<nice.n.01: PosScore=0.0 NegScore=0.0>, <wind...        True   True  \n",
       "4      [None, <dad.n.01: PosScore=0.0 NegScore=0.0>, ...        True   True  \n",
       "...                                                  ...         ...    ...  \n",
       "10256  [<great.n.01: PosScore=0.0 NegScore=0.0>, <exp...       False  False  \n",
       "10257  [<iodine.n.01: PosScore=0.0 NegScore=0.0>, <th...        True   True  \n",
       "10258  [<iodine.n.01: PosScore=0.0 NegScore=0.0>, <tr...        True   True  \n",
       "10259  [<well.n.01: PosScore=0.0 NegScore=0.0>, <make...        True   True  \n",
       "10260  [None, <string_section.n.01: PosScore=0.0 NegS...        True   True  \n",
       "\n",
       "[10261 rows x 6 columns]"
      ]
     },
     "execution_count": 27,
     "metadata": {},
     "output_type": "execute_result"
    }
   ],
   "source": [
    "fin"
   ]
  }
 ],
 "metadata": {
  "kernelspec": {
   "display_name": "Python 3 (ipykernel)",
   "language": "python",
   "name": "python3"
  },
  "language_info": {
   "codemirror_mode": {
    "name": "ipython",
    "version": 3
   },
   "file_extension": ".py",
   "mimetype": "text/x-python",
   "name": "python",
   "nbconvert_exporter": "python",
   "pygments_lexer": "ipython3",
   "version": "3.9.7"
  }
 },
 "nbformat": 4,
 "nbformat_minor": 5
}
